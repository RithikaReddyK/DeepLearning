{
  "nbformat": 4,
  "nbformat_minor": 0,
  "metadata": {
    "colab": {
      "provenance": []
    },
    "kernelspec": {
      "name": "python3",
      "display_name": "Python 3"
    },
    "language_info": {
      "name": "python"
    }
  },
  "cells": [
    {
      "cell_type": "code",
      "execution_count": null,
      "metadata": {
        "id": "T8AALVMLmi18"
      },
      "outputs": [],
      "source": [
        "import torch\n",
        "import torch.nn as nn\n",
        "import torch.nn.functional as F\n",
        "import torchvision\n",
        "import torchvision.transforms as transforms\n",
        "import matplotlib.pyplot as plt\n",
        "import numpy as np\n",
        "import copy#"
      ]
    },
    {
      "cell_type": "code",
      "source": [
        "# MNIST dataset\n",
        "train_dataset = torchvision.datasets.MNIST(root='./data',\n",
        "                                           train=True,\n",
        "                                           transform=transforms.ToTensor(),\n",
        "                                           download=True)\n",
        "\n",
        "test_dataset = torchvision.datasets.MNIST(root='./data',\n",
        "                                          train=False,\n",
        "                                          transform=transforms.ToTensor())\n",
        "\n",
        "print(\"train_dataset length:\", len(train_dataset),\"\\ntest_dataset length:\", len(test_dataset))"
      ],
      "metadata": {
        "colab": {
          "base_uri": "https://localhost:8080/"
        },
        "id": "Ly5hjc_RmnCS",
        "outputId": "9be0dc6a-b862-48da-971a-64ae4a0c1bc8"
      },
      "execution_count": null,
      "outputs": [
        {
          "output_type": "stream",
          "name": "stdout",
          "text": [
            "train_dataset length: 60000 \n",
            "test_dataset length: 10000\n"
          ]
        }
      ]
    },
    {
      "cell_type": "code",
      "source": [
        "# Data loader\n",
        "train_loader = torch.utils.data.DataLoader(dataset=train_dataset,\n",
        "                                           batch_size=600,\n",
        "                                           shuffle=True)\n",
        "\n",
        "test_loader = torch.utils.data.DataLoader(dataset=test_dataset,\n",
        "                                          batch_size=100,\n",
        "                                          shuffle=False)"
      ],
      "metadata": {
        "id": "bRxFJXA1mnyw"
      },
      "execution_count": null,
      "outputs": []
    },
    {
      "cell_type": "code",
      "source": [
        "class Model1(nn.Module):\n",
        "    def __init__(self):\n",
        "        super(Model1, self).__init__()\n",
        "\n",
        "        self.fc1 = nn.Linear(784, 250)\n",
        "        self.fc2 = nn.Linear(250, 125)\n",
        "        self.fc3 = nn.Linear(125, 10)\n",
        "    def forward(self, x):\n",
        "        # flatten as one dimension\n",
        "        x = x.reshape(x.shape[0], -1)\n",
        "        x = F.relu(self.fc1(x))\n",
        "        x = F.relu(self.fc2(x))\n",
        "        x = self.fc3(x)\n",
        "        return x\n"
      ],
      "metadata": {
        "id": "oZzrtgTLmpYh"
      },
      "execution_count": null,
      "outputs": []
    },
    {
      "cell_type": "code",
      "source": [],
      "metadata": {
        "id": "kuvswd0CHsK4"
      },
      "execution_count": null,
      "outputs": []
    },
    {
      "cell_type": "code",
      "source": [
        "class Model2(nn.Module):\n",
        "    def __init__(self,):\n",
        "        super(Model2, self).__init__()\n",
        "\n",
        "        self.fc1 = nn.Linear(784, 100)\n",
        "        self.fc2 = nn.Linear(100, 80)\n",
        "        self.fc3 = nn.Linear(80, 10)\n",
        "    def forward(self, x):\n",
        "        # flatten as one dimension\n",
        "        x = x.reshape(x.shape[0], -1)\n",
        "        x = F.relu(self.fc1(x))\n",
        "        x = F.relu(self.fc2(x))\n",
        "        x = self.fc3(x)\n",
        "        return x\n"
      ],
      "metadata": {
        "id": "YVkefu6vmqxR"
      },
      "execution_count": null,
      "outputs": []
    },
    {
      "cell_type": "code",
      "source": [
        "class Model3(nn.Module):\n",
        "    def __init__(self,):\n",
        "        super(Model3, self).__init__()\n",
        "\n",
        "        self.fc1 = nn.Linear(784, 250)\n",
        "        self.fc2 = nn.Linear(250, 100)\n",
        "        self.fc3 = nn.Linear(100, 10)\n",
        "\n",
        "\n",
        "    def forward(self, x):\n",
        "        # flatten as one dimension\n",
        "        x = x.reshape(x.shape[0], -1)\n",
        "        x = F.relu(self.fc1(x))\n",
        "        x = F.relu(self.fc2(x))\n",
        "        x = self.fc3(x)\n",
        "        return x\n",
        "\n",
        "class Model4(nn.Module):\n",
        "    def __init__(self,):\n",
        "        super(Model4, self).__init__()\n",
        "\n",
        "        self.fc1 = nn.Linear(784, 500)\n",
        "        self.fc2 = nn.Linear(500, 300)\n",
        "        self.fc3 = nn.Linear(300, 10)\n",
        "\n",
        "    def forward(self, x):\n",
        "        # flatten as one dimension\n",
        "        x = x.reshape(x.shape[0], -1)\n",
        "        x = F.relu(self.fc1(x))\n",
        "        x = F.relu(self.fc2(x))\n",
        "        x = self.fc3(x)\n",
        "        return x\n",
        "\n",
        "class Model5(nn.Module):\n",
        "    def __init__(self,):\n",
        "        super(Model5, self).__init__()\n",
        "\n",
        "        self.fc1 = nn.Linear(784, 550)\n",
        "        self.fc2 = nn.Linear(550, 250)\n",
        "        self.fc3 = nn.Linear(250, 10)\n",
        "\n",
        "    def forward(self, x):\n",
        "        # flatten as one dimension\n",
        "        x = x.reshape(x.shape[0], -1)\n",
        "        x = F.relu(self.fc1(x))\n",
        "        x = F.relu(self.fc2(x))\n",
        "        x = self.fc3(x)\n",
        "        return x\n"
      ],
      "metadata": {
        "id": "uXyG1fPImsex"
      },
      "execution_count": null,
      "outputs": []
    },
    {
      "cell_type": "code",
      "source": [
        "class Model6(nn.Module):\n",
        "    def __init__(self,):\n",
        "        super(Model6, self).__init__()\n",
        "\n",
        "        self.fc1 = nn.Linear(784, 750)\n",
        "        self.fc2 = nn.Linear(750, 500)\n",
        "        self.fc3 = nn.Linear(500, 10)\n",
        "\n",
        "    def forward(self, x):\n",
        "        # flatten as one dimension\n",
        "        x = x.reshape(x.shape[0], -1)\n",
        "        x = F.relu(self.fc1(x))\n",
        "        x = F.relu(self.fc2(x))\n",
        "        x = self.fc3(x)\n",
        "        return x\n",
        "\n",
        "class Model7(nn.Module):\n",
        "    def __init__(self,):\n",
        "        super(Model7, self).__init__()\n",
        "\n",
        "        self.fc1 = nn.Linear(784, 700)\n",
        "        self.fc2 = nn.Linear(700, 350)\n",
        "        self.fc3 = nn.Linear(350, 10)\n",
        "\n",
        "    def forward(self, x):\n",
        "        # flatten as one dimension\n",
        "        x = x.reshape(x.shape[0], -1)\n",
        "        x = F.relu(self.fc1(x))\n",
        "        x = F.relu(self.fc2(x))\n",
        "        x = self.fc3(x)\n",
        "        return x\n",
        "\n",
        "\n",
        "class Model8(nn.Module):\n",
        "    def __init__(self,):\n",
        "        super(Model8, self).__init__()\n",
        "\n",
        "        self.fc1 = nn.Linear(784, 800)\n",
        "        self.fc2 = nn.Linear(800, 400)\n",
        "        self.fc3 = nn.Linear(400, 10)\n",
        "\n",
        "    def forward(self, x):\n",
        "        # flatten as one dimension\n",
        "        x = x.reshape(x.shape[0], -1)\n",
        "        x = F.relu(self.fc1(x))\n",
        "        x = F.relu(self.fc2(x))\n",
        "        x = self.fc3(x)\n",
        "        return x\n",
        "\n",
        "class Model9(nn.Module):\n",
        "    def __init__(self,):\n",
        "        super(Model9, self).__init__()\n",
        "\n",
        "        self.fc1 = nn.Linear(784, 1500)\n",
        "        self.fc2 = nn.Linear(1500, 750)\n",
        "        self.fc3 = nn.Linear(750, 10)\n",
        "\n",
        "    def forward(self, x):\n",
        "        # flatten as one dimension\n",
        "        x = x.reshape(x.shape[0], -1)\n",
        "        x = F.relu(self.fc1(x))\n",
        "        x = F.relu(self.fc2(x))\n",
        "        x = self.fc3(x)\n",
        "        return x\n"
      ],
      "metadata": {
        "id": "e6rZU3s_msqo"
      },
      "execution_count": null,
      "outputs": []
    },
    {
      "cell_type": "code",
      "source": [
        "class Model10(nn.Module):\n",
        "    def __init__(self,):\n",
        "        super(Model10, self).__init__()\n",
        "\n",
        "        self.fc1 = nn.Linear(784, 200)\n",
        "        self.fc2 = nn.Linear(200, 100)\n",
        "        self.fc3 = nn.Linear(100, 10)\n",
        "\n",
        "    def forward(self, x):\n",
        "        # flatten as one dimension\n",
        "        x = x.reshape(x.shape[0], -1)\n",
        "        x = F.relu(self.fc1(x))\n",
        "        x = F.relu(self.fc2(x))\n",
        "        x = self.fc3(x)\n",
        "        return x\n"
      ],
      "metadata": {
        "id": "TezT4YMnmyNJ"
      },
      "execution_count": null,
      "outputs": []
    },
    {
      "cell_type": "code",
      "source": [
        "# Hyper-parameters\n",
        "input_size = 784 # 28x28\n",
        "max_epochs = 15\n",
        "learning_rate = 0.001\n",
        "kernel_size = 4\n",
        "num_epochs = 10\n",
        "dropout = 0.25\n",
        "#weight_decay_val = 1e-4\n",
        "#train function\n",
        "def trainFunc(model,num_epochs):\n",
        "    model.train()\n",
        "    n_total_steps = len(train_loader)\n",
        "    train_losses = []\n",
        "    train_epoch = []\n",
        "    train_acc = []\n",
        "    not_converged =True\n",
        "    epoch = 0\n",
        "    trainAvgLoss = []\n",
        "    #trainAvgAcc = []\n",
        "    while not_converged:\n",
        "        epoch += 1\n",
        "        n_correct = 0\n",
        "        n_samples = 0\n",
        "        lossSum = 0\n",
        "        #accSum=0\n",
        "        for i, (images, labels) in enumerate(train_loader):\n",
        "            # Forward pass\n",
        "            prediction = model(images)\n",
        "            loss = loss_func(prediction, labels)\n",
        "            lossSum += loss.detach().numpy()\n",
        "            # Backward and optimize\n",
        "            optimizer.zero_grad()\n",
        "            loss.backward()\n",
        "            optimizer.step()\n",
        "\n",
        "            _, predicted = torch.max(prediction.data, 1)\n",
        "            n_samples += labels.size(0)\n",
        "            n_correct += (predicted == labels).sum().item()\n",
        "            acc = 100.0 * n_correct / n_samples\n",
        "            #accSum += acc\n",
        "\n",
        "            if (i+1) % 100 == 0:\n",
        "                print (f'Epoch [{epoch}/{num_epochs}], Step [{i+1}/{n_total_steps}], Loss: {loss.item():.4f}, Accuracy : {acc} %', end = '\\r', flush=True)\n",
        "                train_epoch.append(epoch)\n",
        "                train_losses.append(loss.item())\n",
        "                #print(f'Epoch [{epoch}/{num_epochs}], Accuracy : {acc} %')\n",
        "                train_acc.append(acc)\n",
        "\n",
        "\n",
        "                if epoch == num_epochs:\n",
        "                        print(\"Max Epoch Reached\")\n",
        "                        not_converged = False\n",
        "                elif (epoch > 5) and  (train_losses[-1] < 0.001):\n",
        "                    if abs(train_losses[-3] - train_losses[-2]) < 1.0e-05 and abs(train_losses[-2] - train_losses[-1]) < 1.0e-05:\n",
        "                        print(\"Convergeance reached for loss:\",train_losses[-1])\n",
        "                        not_converged = False\n",
        "\n",
        "        trainAvgLoss.append(lossSum/n_total_steps)\n",
        "\n",
        "        print(f'For epoch {epoch} AVG_LOSS: {trainAvgLoss[epoch-1]:.4f}',end = '\\r', flush=True)\n",
        "    return train_epoch,train_losses,train_acc,trainAvgLoss"
      ],
      "metadata": {
        "id": "GgvG_AFkm2Jx"
      },
      "execution_count": null,
      "outputs": []
    },
    {
      "cell_type": "code",
      "source": [
        "# Test function\n",
        "# In test phase, we don't need to compute gradients (for memory efficiency)\n",
        "def testFunc(model):\n",
        "    model.eval()\n",
        "    with torch.no_grad():\n",
        "        n_correct = 0\n",
        "        n_samples = 0\n",
        "        testLoss = 0\n",
        "        count = 0\n",
        "        for images, labels in test_loader:\n",
        "            prediction = model(images)\n",
        "            tLoss = loss_func(prediction, labels)\n",
        "            testLoss += tLoss\n",
        "            # max returns (value ,index)\n",
        "            _, predicted = torch.max(prediction.data, 1)\n",
        "            n_samples += labels.size(0)\n",
        "            n_correct += (predicted == labels).sum().item()\n",
        "            count += 1\n",
        "\n",
        "        testLoss /= count\n",
        "        netTest_acc1 = 100.0 * n_correct / n_samples\n",
        "\n",
        "        print(f'Accuracy of the network:{model._get_name()} on the test images: {netTest_acc1:.2f} % & loss of the network:{testLoss:.4f}')\n",
        "        return netTest_acc1,testLoss"
      ],
      "metadata": {
        "id": "Dc9HKRzLm4Bx"
      },
      "execution_count": null,
      "outputs": []
    },
    {
      "cell_type": "code",
      "source": [
        "model_list=[Model1,Model2,Model3,Model4,Model5,Model6,Model7,Model8,Model9,Model10]\n",
        "\n",
        "allTrainLossVal = {}\n",
        "allTrainAccVal = {}\n",
        "allTestLossVal = {}\n",
        "allTestAccVal = {}\n",
        "allModelParamNo = {}\n",
        "for i in range (len(model_list)):\n",
        "        j = copy.deepcopy(i)\n",
        "        torch.manual_seed(1)\n",
        "        j = model_list[i]()\n",
        "\n",
        "        loss_func = nn.CrossEntropyLoss()\n",
        "        optimizer = torch.optim.Adam(j.parameters(), lr=learning_rate) #, weight_decay = weight_decay_val)\n",
        "\n",
        "        a=[]\n",
        "        for k in j.parameters():\n",
        "            a.append(torch.numel(k))\n",
        "        modelTotalPrams = np.sum(a)\n",
        "        print(f'Total no of parameters in Model{j._get_name()} :{modelTotalPrams}')\n",
        "\n",
        "        train_epoch,train_losses,train_acc,trainAvgLoss = trainFunc(j,num_epochs)\n",
        "\n",
        "        testAcc,testLoss = testFunc(j)\n",
        "\n",
        "        allTrainLossVal[j._get_name()] = trainAvgLoss\n",
        "        allTrainAccVal[j._get_name()] = train_acc\n",
        "        allTestLossVal[j._get_name()] = testLoss\n",
        "        allTestAccVal[j._get_name()] = testAcc\n",
        "        allModelParamNo[j._get_name()] = modelTotalPrams"
      ],
      "metadata": {
        "colab": {
          "base_uri": "https://localhost:8080/"
        },
        "id": "8gZZf32Nm73h",
        "outputId": "d02f3465-2abf-479e-a8ab-2b1b68b07ff9"
      },
      "execution_count": null,
      "outputs": [
        {
          "output_type": "stream",
          "name": "stdout",
          "text": [
            "Total no of parameters in ModelModel1 :228885\n",
            "Max Epoch Reached\n",
            "Accuracy of the network:Model1 on the test images: 97.33 % & loss of the network:0.0862\n",
            "Total no of parameters in ModelModel2 :87390\n",
            "Max Epoch Reached\n",
            "Accuracy of the network:Model2 on the test images: 97.03 % & loss of the network:0.1030\n",
            "Total no of parameters in ModelModel3 :222360\n",
            "Max Epoch Reached\n",
            "Accuracy of the network:Model3 on the test images: 97.64 % & loss of the network:0.0824\n",
            "Total no of parameters in ModelModel4 :545810\n",
            "Max Epoch Reached\n",
            "Accuracy of the network:Model4 on the test images: 97.97 % & loss of the network:0.0668\n",
            "Total no of parameters in ModelModel5 :572010\n",
            "Max Epoch Reached\n",
            "Accuracy of the network:Model5 on the test images: 97.93 % & loss of the network:0.0677\n",
            "Total no of parameters in ModelModel6 :969260\n",
            "Max Epoch Reached\n",
            "Accuracy of the network:Model6 on the test images: 98.05 % & loss of the network:0.0656\n",
            "Total no of parameters in ModelModel7 :798360\n",
            "Max Epoch Reached\n",
            "Accuracy of the network:Model7 on the test images: 97.91 % & loss of the network:0.0736\n",
            "Total no of parameters in ModelModel8 :952410\n",
            "Max Epoch Reached\n",
            "Accuracy of the network:Model8 on the test images: 98.25 % & loss of the network:0.0617\n",
            "Total no of parameters in ModelModel9 :2310760\n",
            "Max Epoch Reached\n",
            "Accuracy of the network:Model9 on the test images: 98.40 % & loss of the network:0.0687\n",
            "Total no of parameters in ModelModel10 :178110\n",
            "Max Epoch Reached\n",
            "Accuracy of the network:Model10 on the test images: 97.41 % & loss of the network:0.0816\n"
          ]
        }
      ]
    },
    {
      "cell_type": "code",
      "source": [
        "model_TrainLoss = [np.min(allTrainLossVal[f'Model{i}']) for i in range(1, 11)]\n",
        "model_Tparams = [allModelParamNo[f'Model{i}'] for i in range(1, 11)]\n",
        "model_Testloss = [allTestLossVal[f'Model{i}'] for i in range(1, 11)]\n"
      ],
      "metadata": {
        "id": "Tdl8PTf7ID_I"
      },
      "execution_count": null,
      "outputs": []
    },
    {
      "cell_type": "code",
      "source": [
        "model_TrainAccuracy=[np.max(allTrainAccVal[f'Model{i}']) for i in range(1, 11)]\n",
        "model_Test_Accuracy = [allTestAccVal[f'Model{i}'] for i in range(1, 11)]"
      ],
      "metadata": {
        "id": "xkfq_BU8I92k"
      },
      "execution_count": null,
      "outputs": []
    },
    {
      "cell_type": "code",
      "source": [
        "f = plt.figure()\n",
        "f.set_figwidth(10)\n",
        "f.set_figheight(5)\n",
        "plt.scatter(model_Tparams,model_TrainLoss)\n",
        "plt.scatter(model_Tparams,model_Testloss)\n",
        "plt.xticks(model_Tparams, model_Tparams,rotation=70)\n",
        "plt.legend(['train_loss','test_loss'])\n",
        "plt.title('Train/Test Loss Vs Parameters')\n",
        "plt.show()"
      ],
      "metadata": {
        "colab": {
          "base_uri": "https://localhost:8080/",
          "height": 516
        },
        "id": "nhy80_1tIpTa",
        "outputId": "a1b6bdde-ce1a-4d76-fe9b-9c75fe50e891"
      },
      "execution_count": null,
      "outputs": [
        {
          "output_type": "display_data",
          "data": {
            "text/plain": [
              "<Figure size 1000x500 with 1 Axes>"
            ],
            "image/png": "[encoded data removed]"
          },
          "metadata": {}
        }
      ]
    },
    {
      "cell_type": "code",
      "source": [
        "plt.scatter(model_Tparams,model_TrainAccuracy)\n",
        "plt.scatter(model_Tparams,model_Test_Accuracy)\n",
        "plt.xticks(model_Tparams, model_Tparams,rotation=70)\n",
        "plt.legend(['train_Accuracy','test_Accuracy'])\n",
        "plt.title('Train/Test Accuracy Vs Parameters')\n",
        "plt.show()"
      ],
      "metadata": {
        "colab": {
          "base_uri": "https://localhost:8080/",
          "height": 501
        },
        "id": "FjbZ9NT9Jk98",
        "outputId": "112bbbbe-532f-4c9b-a2eb-f810e865312f"
      },
      "execution_count": null,
      "outputs": [
        {
          "output_type": "display_data",
          "data": {
            "text/plain": [
              "<Figure size 640x480 with 1 Axes>"
            ],
            "image/png": "[encoded data removed]"
          },
          "metadata": {}
        }
      ]
    }
  ]
}
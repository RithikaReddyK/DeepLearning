{
  "nbformat": 4,
  "nbformat_minor": 0,
  "metadata": {
    "colab": {
      "provenance": []
    },
    "kernelspec": {
      "name": "python3",
      "display_name": "Python 3"
    },
    "language_info": {
      "name": "python"
    }
  },
  "cells": [
    {
      "cell_type": "code",
      "execution_count": null,
      "metadata": {
        "id": "gJUpZcmi-WIQ"
      },
      "outputs": [],
      "source": [
        "#Part1"
      ]
    },
    {
      "cell_type": "code",
      "source": [
        "import torch\n",
        "import torch.nn as nn\n",
        "import torch.optim as optim\n",
        "from torchvision import datasets, transforms\n",
        "from torch.autograd import Variable\n",
        "import torch.nn.functional as F\n",
        "import numpy as np\n",
        "import matplotlib.pyplot as plt\n",
        "import os\n",
        "import statistics as s"
      ],
      "metadata": {
        "id": "3U4aRgyb-fa9"
      },
      "execution_count": null,
      "outputs": []
    },
    {
      "cell_type": "code",
      "source": [
        "def load_data(train_batch_size, test_batch_size):\n",
        "    # Fetch training data: total 60000 samples\n",
        "    train_loader = torch.utils.data.DataLoader(\n",
        "        datasets.MNIST('data', train = True, download=True,\n",
        "                       transform=transforms.Compose([\n",
        "                           transforms.Resize((32, 32)),\n",
        "                           transforms.ToTensor()\n",
        "                       ])),\n",
        "        batch_size = train_batch_size, shuffle=True)\n",
        "\n",
        "    # Fetch test data: total 10000 samples\n",
        "    test_loader = torch.utils.data.DataLoader(\n",
        "        datasets.MNIST('data', train = False, transform=transforms.Compose([\n",
        "            transforms.Resize((32, 32)),\n",
        "            transforms.ToTensor()\n",
        "        ])),\n",
        "        batch_size = test_batch_size, shuffle=True)\n",
        "\n",
        "    return (train_loader, test_loader)"
      ],
      "metadata": {
        "id": "FEkkZkdoB-4L"
      },
      "execution_count": null,
      "outputs": []
    },
    {
      "cell_type": "code",
      "source": [
        "class CNN(nn.Module):\n",
        "    def __init__(self):\n",
        "        super(CNN, self).__init__()\n",
        "\n",
        "        self.conv1 = nn.Conv2d(1, 6, 5)\n",
        "        self.conv2 = nn.Conv2d(6, 16, 5)\n",
        "        self.fc1 = nn.Linear(16 * 5 * 5, 120)\n",
        "        self.fc2 = nn.Linear(120, 84)\n",
        "        self.fc3 = nn.Linear(84, 10)\n",
        "\n",
        "    def forward(self, x):\n",
        "        x = F.max_pool2d(F.relu(self.conv1(x)), 2)\n",
        "        x = F.max_pool2d(F.relu(self.conv2(x)), 2)\n",
        "        # flatten as one dimension\n",
        "        x = x.view(x.size()[0], -1)\n",
        "        x = F.relu(self.fc1(x))\n",
        "        x = F.relu(self.fc2(x))\n",
        "\n",
        "        x = self.fc3(x)\n",
        "        return x"
      ],
      "metadata": {
        "id": "l35cUIsPCBdR"
      },
      "execution_count": null,
      "outputs": []
    },
    {
      "cell_type": "code",
      "source": [
        "def define_optimizer(model,learn_rate):\n",
        "    return optim.SGD(model.parameters(), lr=Learn_rate,momentum=0.9,nesterov=True)"
      ],
      "metadata": {
        "id": "tGGpQV6OCENx"
      },
      "execution_count": null,
      "outputs": []
    },
    {
      "cell_type": "code",
      "source": [
        "def train(model, optimizer, train_loader):\n",
        "    model.train()\n",
        "\n",
        "    for batch_idx, (data, target) in enumerate(train_loader):\n",
        "        data, target = Variable(data), Variable(target)\n",
        "        optimizer.zero_grad()\n",
        "\n",
        "        # Forward propagation\n",
        "        output = model(data)\n",
        "        loss = loss_fn(output, target)\n",
        "        loss.backward()\n",
        "        optimizer.step()"
      ],
      "metadata": {
        "id": "gux8jrBwCFx6"
      },
      "execution_count": null,
      "outputs": []
    },
    {
      "cell_type": "code",
      "source": [
        "def calculate_loss(model, loader, loss_fn):\n",
        "    correct = 0\n",
        "    total = 0\n",
        "    costTotal = 0\n",
        "    costCounter = 0\n",
        "    with torch.no_grad():\n",
        "        for batch in loader:\n",
        "            data, target = batch\n",
        "            output = model(data)\n",
        "            cost = loss_fn(output, target)\n",
        "            costTotal += cost\n",
        "            costCounter += 1\n",
        "            for i, outputTensor in enumerate(output):\n",
        "                if torch.argmax(outputTensor) == target[i]:\n",
        "                    correct += 1\n",
        "                total += 1\n",
        "    return costTotal / costCounter, round(correct/total, 3)"
      ],
      "metadata": {
        "id": "LuWL-UBJCniY"
      },
      "execution_count": null,
      "outputs": []
    },
    {
      "cell_type": "code",
      "source": [
        "loss_train_arr = []\n",
        "loss_test_arr = []\n",
        "test_acc_arr = []\n",
        "train_acc_arr = []\n",
        "def compute_metrics(model, optimizer):\n",
        "\n",
        "    for epoch in range(1, epochs + 1):\n",
        "        train(model, optimizer, train_loader)\n",
        "        tr_loss, tr_acc = calculate_loss(model, train_loader, loss_fn)\n",
        "        t_loss, t_acc = calculate_loss(model, test_loader, loss_fn)\n",
        "        print(\"Model Train loss: \", tr_loss)\n",
        "        loss_train_arr.append(tr_loss)\n",
        "        loss_test_arr.append(t_loss)\n",
        "        train_acc_arr.append(tr_acc)\n",
        "        test_acc_arr.append(t_acc)\n",
        "    return loss_train_arr, loss_test_arr, train_acc_arr, test_acc_arr"
      ],
      "metadata": {
        "id": "zsZLggOyCp8Z"
      },
      "execution_count": null,
      "outputs": []
    },
    {
      "cell_type": "code",
      "source": [
        "epochs = 30\n",
        "torch.manual_seed(1)\n",
        "loss_fn = torch.nn.CrossEntropyLoss()\n",
        "train_loader, test_loader = load_data(64, 64)\n",
        "m1 = CNN()\n",
        "optimizer = define_optimizer(m1,1e-2)\n",
        "print(\"Starting Batch 1\")\n",
        "batch_1_train_loss, batch_1_test_loss, batch_1_train_acc, batch_1_test_acc = compute_metrics(m1, optimizer)\n",
        "\n",
        "batch_param_1 = torch.nn.utils.parameters_to_vector(m1.parameters())\n",
        "\n",
        "torch.manual_seed(1)\n",
        "loss_fn = torch.nn.CrossEntropyLoss()\n",
        "train_loader, test_loader = load_data(1024, 1024)\n",
        "m2 = CNN()\n",
        "optimizer = define_optimizer(m2,1e-2)\n",
        "print(\"Moving to Batch 2\")\n",
        "batch_2_train_loss, batch_2_test_loss, batch_2_train_acc, batch_2_test_acc = compute_metrics(m2, optimizer)\n",
        "\n",
        "batch_param_2 = torch.nn.utils.parameters_to_vector(m2.parameters())"
      ],
      "metadata": {
        "colab": {
          "base_uri": "https://localhost:8080/"
        },
        "id": "DaTXj1ycC3gD",
        "outputId": "f4dacaff-4278-4da5-d3e7-a6652635db91"
      },
      "execution_count": null,
      "outputs": [
        {
          "output_type": "stream",
          "name": "stdout",
          "text": [
            "Starting Batch 1\n",
            "Model Train loss:  tensor(0.0911)\n",
            "Model Train loss:  tensor(0.0890)\n",
            "Model Train loss:  tensor(0.0420)\n",
            "Model Train loss:  tensor(0.0348)\n",
            "Model Train loss:  tensor(0.0447)\n",
            "Model Train loss:  tensor(0.0252)\n",
            "Model Train loss:  tensor(0.0207)\n",
            "Model Train loss:  tensor(0.0137)\n",
            "Model Train loss:  tensor(0.0140)\n",
            "Model Train loss:  tensor(0.0111)\n",
            "Model Train loss:  tensor(0.0099)\n",
            "Model Train loss:  tensor(0.0086)\n",
            "Model Train loss:  tensor(0.0120)\n",
            "Model Train loss:  tensor(0.0078)\n",
            "Model Train loss:  tensor(0.0049)\n",
            "Model Train loss:  tensor(0.0085)\n",
            "Model Train loss:  tensor(0.0075)\n",
            "Model Train loss:  tensor(0.0049)\n",
            "Model Train loss:  tensor(0.0059)\n",
            "Model Train loss:  tensor(0.0041)\n",
            "Model Train loss:  tensor(0.0035)\n",
            "Model Train loss:  tensor(0.0052)\n",
            "Model Train loss:  tensor(0.0041)\n",
            "Model Train loss:  tensor(0.0076)\n",
            "Model Train loss:  tensor(0.0041)\n",
            "Model Train loss:  tensor(0.0036)\n",
            "Model Train loss:  tensor(0.0016)\n",
            "Model Train loss:  tensor(0.0012)\n",
            "Model Train loss:  tensor(0.0005)\n",
            "Model Train loss:  tensor(0.0003)\n",
            "Moving to Batch 2\n",
            "Model Train loss:  tensor(2.2753)\n",
            "Model Train loss:  tensor(0.8147)\n",
            "Model Train loss:  tensor(0.3468)\n",
            "Model Train loss:  tensor(0.2385)\n",
            "Model Train loss:  tensor(0.1968)\n",
            "Model Train loss:  tensor(0.1515)\n",
            "Model Train loss:  tensor(0.1296)\n",
            "Model Train loss:  tensor(0.1206)\n",
            "Model Train loss:  tensor(0.0962)\n",
            "Model Train loss:  tensor(0.0911)\n",
            "Model Train loss:  tensor(0.0795)\n",
            "Model Train loss:  tensor(0.0740)\n",
            "Model Train loss:  tensor(0.0679)\n",
            "Model Train loss:  tensor(0.0730)\n",
            "Model Train loss:  tensor(0.0614)\n",
            "Model Train loss:  tensor(0.0575)\n",
            "Model Train loss:  tensor(0.0525)\n",
            "Model Train loss:  tensor(0.0543)\n",
            "Model Train loss:  tensor(0.0546)\n",
            "Model Train loss:  tensor(0.0540)\n",
            "Model Train loss:  tensor(0.0459)\n",
            "Model Train loss:  tensor(0.0469)\n",
            "Model Train loss:  tensor(0.0407)\n",
            "Model Train loss:  tensor(0.0380)\n",
            "Model Train loss:  tensor(0.0400)\n",
            "Model Train loss:  tensor(0.0388)\n",
            "Model Train loss:  tensor(0.0367)\n",
            "Model Train loss:  tensor(0.0349)\n",
            "Model Train loss:  tensor(0.0352)\n",
            "Model Train loss:  tensor(0.0309)\n"
          ]
        }
      ]
    },
    {
      "cell_type": "code",
      "source": [
        "plt.plot( batch_1_train_loss)\n",
        "plt.plot( batch_2_train_loss)\n",
        "plt.title('Model Loss Comparision with two different approches')\n",
        "plt.legend(['Batch 1', 'Batch 2'])\n",
        "plt.xlabel('Epoch')\n",
        "plt.ylabel('Loss')\n",
        "plt.show()\n"
      ],
      "metadata": {
        "colab": {
          "base_uri": "https://localhost:8080/",
          "height": 472
        },
        "id": "0i8nAakzZL6y",
        "outputId": "b38585a7-2c60-46b0-af8b-757f4cd948e1"
      },
      "execution_count": null,
      "outputs": [
        {
          "output_type": "display_data",
          "data": {
            "text/plain": [
              "<Figure size 640x480 with 1 Axes>"
            ],
            "image/png": "[encoded data removed]"
          },
          "metadata": {}
        }
      ]
    },
    {
      "cell_type": "code",
      "source": [
        "plt.plot( batch_1_test_acc)\n",
        "plt.plot( batch_2_test_acc)\n",
        "plt.title('Model Accuracy Comparision')\n",
        "plt.legend(['Train Accuracy', 'Test Accuracy'])\n",
        "plt.xlabel('Epoch')\n",
        "plt.ylabel('Accuracy')\n",
        "plt.show()"
      ],
      "metadata": {
        "colab": {
          "base_uri": "https://localhost:8080/",
          "height": 472
        },
        "id": "Z29nSBSUajzN",
        "outputId": "7c4a24e8-000f-4180-f99b-8ad1ba5a6932"
      },
      "execution_count": null,
      "outputs": [
        {
          "output_type": "display_data",
          "data": {
            "text/plain": [
              "<Figure size 640x480 with 1 Axes>"
            ],
            "image/png": "[encoded data removed]"
          },
          "metadata": {}
        }
      ]
    },
    {
      "cell_type": "code",
      "source": [
        "alpha = np.linspace(-5,5, num = 31)\n",
        "Parameters =[]\n",
        "for i in range (len(alpha)):\n",
        "    theta = (1-alpha[i])*batch_param_1 + alpha[i]* batch_param_2\n",
        "    Parameters.append(theta)"
      ],
      "metadata": {
        "id": "P3fqx-uhjdQX"
      },
      "execution_count": null,
      "outputs": []
    },
    {
      "cell_type": "code",
      "source": [],
      "metadata": {
        "id": "mQjv4LmLwPm4"
      },
      "execution_count": null,
      "outputs": []
    },
    {
      "cell_type": "code",
      "source": [],
      "metadata": {
        "id": "htMud24Ry8Vy"
      },
      "execution_count": null,
      "outputs": []
    },
    {
      "cell_type": "code",
      "source": [],
      "metadata": {
        "id": "9oSj5uvgz-RO"
      },
      "execution_count": null,
      "outputs": []
    }
  ]
}
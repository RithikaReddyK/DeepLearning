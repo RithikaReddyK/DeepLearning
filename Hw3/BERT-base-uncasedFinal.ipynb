{
 "cells": [
  {
   "cell_type": "code",
   "execution_count": 1,
   "id": "669a9640-e404-4489-93eb-e8814434ae03",
   "metadata": {},
   "outputs": [],
   "source": [
    "''' Decaying learning rate model with bert-base-uncased and accelerator amd docstride'''\n",
    "import json\n",
    "def read_squad(path):\n",
    "    # open JSON file and load intro dictionary\n",
    "    with open(path, 'rb') as f:\n",
    "        squad_dict = json.load(f)\n",
    "\n",
    "    # initialize lists for contexts, questions, and answers\n",
    "    contexts = []\n",
    "    questions = []\n",
    "    answers = []\n",
    "    # iterate through all data in squad data\n",
    "    for group in squad_dict['data']:\n",
    "        for passage in group['paragraphs']:\n",
    "            context = passage['context']\n",
    "            for qa in passage['qas']:\n",
    "                question = qa['question']\n",
    "                # check if we need to be extracting from 'answers' or 'plausible_answers'\n",
    "                if 'plausible_answers' in qa.keys():\n",
    "                    access = 'plausible_answers'\n",
    "                else:\n",
    "                    access = 'answers'\n",
    "                for answer in qa[access]:\n",
    "                    # append data to lists\n",
    "                    contexts.append(context)\n",
    "                    questions.append(question)\n",
    "                    answers.append(answer)\n",
    "    # return formatted data lists\n",
    "    return contexts, questions, answers\n",
    "\n",
    "# execute our read SQuAD function for training and validation sets\n",
    "train_contexts, train_questions, train_answers = read_squad('SpokenData/spoken_train-v1.1.json')\n",
    "val_contexts, val_questions, val_answers = read_squad('SpokenData/spoken_test-v1.1.json')"
   ]
  },
  {
   "cell_type": "code",
   "execution_count": 2,
   "id": "b38c03c0-3240-49ce-ba05-0503b685b33f",
   "metadata": {},
   "outputs": [],
   "source": [
    "#from transformers import BertTokenizer\n",
    "\n",
    "# Load fast tokenizer\n",
    "#tokenizer = BertTokenizer.from_pretrained(\"bert-base-uncased\", use_fast=True)"
   ]
  },
  {
   "cell_type": "code",
   "execution_count": 3,
   "id": "91cb238d-e91c-41c9-8726-59939a92bdd2",
   "metadata": {},
   "outputs": [],
   "source": [
    "#print(type(tokenizer))\n"
   ]
  },
  {
   "cell_type": "code",
   "execution_count": null,
   "id": "9677a6b2-cedc-4cae-8426-acb896c00338",
   "metadata": {},
   "outputs": [],
   "source": []
  },
  {
   "cell_type": "code",
   "execution_count": 4,
   "id": "ea67316f-ada1-473c-9508-fa9eda9d5355",
   "metadata": {},
   "outputs": [
    {
     "name": "stderr",
     "output_type": "stream",
     "text": [
      "Some weights of the model checkpoint at bert-base-uncased were not used when initializing BertForQuestionAnswering: ['cls.predictions.transform.dense.bias', 'cls.predictions.transform.LayerNorm.weight', 'cls.predictions.bias', 'cls.predictions.transform.dense.weight', 'cls.seq_relationship.bias', 'cls.seq_relationship.weight', 'cls.predictions.transform.LayerNorm.bias']\n",
      "- This IS expected if you are initializing BertForQuestionAnswering from the checkpoint of a model trained on another task or with another architecture (e.g. initializing a BertForSequenceClassification model from a BertForPreTraining model).\n",
      "- This IS NOT expected if you are initializing BertForQuestionAnswering from the checkpoint of a model that you expect to be exactly identical (initializing a BertForSequenceClassification model from a BertForSequenceClassification model).\n",
      "Some weights of BertForQuestionAnswering were not initialized from the model checkpoint at bert-base-uncased and are newly initialized: ['qa_outputs.bias', 'qa_outputs.weight']\n",
      "You should probably TRAIN this model on a down-stream task to be able to use it for predictions and inference.\n"
     ]
    }
   ],
   "source": [
    "from transformers import BertTokenizerFast, BertForQuestionAnswering\n",
    "\n",
    "tokenizer = BertTokenizerFast.from_pretrained(\"bert-base-uncased\", use_fast=True)\n",
    "model = BertForQuestionAnswering.from_pretrained(\"bert-base-uncased\")"
   ]
  },
  {
   "cell_type": "code",
   "execution_count": 5,
   "id": "ef02167d-4cdd-4db5-a8b2-bb792fde9e22",
   "metadata": {},
   "outputs": [
    {
     "data": {
      "text/plain": [
       "\"def add_end_idx(answers, contexts):\\n    # loop through each answer-context pair\\n    for answer, context in zip(answers, contexts):\\n        # gold_text refers to the answer we are expecting to find in context\\n        gold_text = answer['text']\\n        # we already know the start index\\n        start_idx = answer['answer_start']\\n        # and ideally this would be the end index...\\n        end_idx = start_idx + len(gold_text)\\n\\n        # ...however, sometimes squad answers are off by a character or two\\n        if context[start_idx:end_idx] == gold_text:\\n            # if the answer is not off :)\\n            answer['answer_end'] = end_idx\\n        else:\\n            # this means the answer is off by 1-2 tokens\\n            for n in [1, 2]:\\n                if context[start_idx-n:end_idx-n] == gold_text:\\n                    answer['answer_start'] = start_idx - n\\n                    answer['answer_end'] = end_idx - n\\n            \\n# and apply the function to our two answer lists\\nadd_end_idx(train_answers, train_contexts)\\nadd_end_idx(val_answers, val_contexts)\\n\""
      ]
     },
     "execution_count": 5,
     "metadata": {},
     "output_type": "execute_result"
    }
   ],
   "source": [
    "'''def add_end_idx(answers, contexts):\n",
    "    # loop through each answer-context pair\n",
    "    for answer, context in zip(answers, contexts):\n",
    "        # gold_text refers to the answer we are expecting to find in context\n",
    "        gold_text = answer['text']\n",
    "        # we already know the start index\n",
    "        start_idx = answer['answer_start']\n",
    "        # and ideally this would be the end index...\n",
    "        end_idx = start_idx + len(gold_text)\n",
    "\n",
    "        # ...however, sometimes squad answers are off by a character or two\n",
    "        if context[start_idx:end_idx] == gold_text:\n",
    "            # if the answer is not off :)\n",
    "            answer['answer_end'] = end_idx\n",
    "        else:\n",
    "            # this means the answer is off by 1-2 tokens\n",
    "            for n in [1, 2]:\n",
    "                if context[start_idx-n:end_idx-n] == gold_text:\n",
    "                    answer['answer_start'] = start_idx - n\n",
    "                    answer['answer_end'] = end_idx - n\n",
    "            \n",
    "# and apply the function to our two answer lists\n",
    "add_end_idx(train_answers, train_contexts)\n",
    "add_end_idx(val_answers, val_contexts)\n",
    "'''"
   ]
  },
  {
   "cell_type": "code",
   "execution_count": 6,
   "id": "07832034-1c31-431d-a183-870dc72879d7",
   "metadata": {},
   "outputs": [],
   "source": [
    "import re\n",
    "\n",
    "def add_end_idx(answers, contexts):\n",
    "    # loop through each answer-context pair\n",
    "    for answer, context in zip(answers, contexts):\n",
    "        # gold_text refers to the answer we are expecting to find in context\n",
    "        gold_text = answer['text']\n",
    "        start_idx = answer['answer_start']\n",
    "        end_idx = start_idx + len(gold_text)\n",
    "\n",
    "        # Check if exact match found at initial start and end\n",
    "        if context[start_idx:end_idx] == gold_text:\n",
    "            answer['answer_end'] = end_idx\n",
    "        else:\n",
    "            # Search for exact match within a window of characters around start_idx\n",
    "            found = False\n",
    "            for offset in range(-5, 6):  # Check a window of offsets [-5, +5]\n",
    "                new_start = start_idx + offset\n",
    "                new_end = new_start + len(gold_text)\n",
    "\n",
    "                # Ensure indices are within context bounds\n",
    "                if 0 <= new_start < len(context) and context[new_start:new_end] == gold_text:\n",
    "                    answer['answer_start'] = new_start\n",
    "                    answer['answer_end'] = new_end\n",
    "                    found = True\n",
    "                    break\n",
    "\n",
    "            # If no exact match, use regex as a fallback to find the gold_text span\n",
    "            if not found:\n",
    "                match = re.search(re.escape(gold_text), context)\n",
    "                if match:\n",
    "                    answer['answer_start'] = match.start()\n",
    "                    answer['answer_end'] = match.end()\n",
    "\n",
    "# Apply the function to your answer and context lists\n",
    "add_end_idx(train_answers, train_contexts)\n",
    "add_end_idx(val_answers, val_contexts)\n"
   ]
  },
  {
   "cell_type": "code",
   "execution_count": 7,
   "id": "6333b8db-5a09-4773-99f6-987795370cc8",
   "metadata": {},
   "outputs": [],
   "source": [
    "import transformers\n",
    "from transformers import AutoTokenizer\n",
    "\n",
    "max_length=512\n",
    "\n",
    "\n",
    "train_encodings = tokenizer(train_contexts, train_questions, truncation=True, max_length=512,padding=True,\n",
    "                            stride=102)\n",
    "val_encodings = tokenizer(val_contexts, val_questions, truncation=True, padding=True,\n",
    "                          max_length=512,stride=102)"
   ]
  },
  {
   "cell_type": "code",
   "execution_count": null,
   "id": "b53dadef-aa73-43b6-8088-4d73eb309b97",
   "metadata": {},
   "outputs": [],
   "source": []
  },
  {
   "cell_type": "code",
   "execution_count": 8,
   "id": "38331d40-645f-46f6-b049-bd08dab1d0c4",
   "metadata": {},
   "outputs": [],
   "source": [
    "#train_encodings = tokenizer(train_contexts, train_questions, truncation=True, padding=True)\n",
    "#val_encodings = tokenizer(val_contexts, val_questions, truncation=True, padding=True)"
   ]
  },
  {
   "cell_type": "code",
   "execution_count": 9,
   "id": "50ab3e3a-5ede-4e41-8cc4-3c2d180f4602",
   "metadata": {},
   "outputs": [],
   "source": [
    "def add_token_positions(encodings, answers):\n",
    "    # initialize lists to contain the token indices of answer start/end\n",
    "    start_positions = []\n",
    "    end_positions = []\n",
    "    for i in range(len(answers)):\n",
    "        \n",
    "  \n",
    "        start_positions.append(encodings.char_to_token(i, answers[i]['answer_start']))\n",
    "        end_positions.append(encodings.char_to_token(i, answers[i]['answer_end']))\n",
    "\n",
    "       \n",
    "        if start_positions[-1] is None:\n",
    "            start_positions[-1] = tokenizer.model_max_length\n",
    "     \n",
    "        shift = 1\n",
    "        while end_positions[-1] is None:\n",
    "            end_positions[-1] = encodings.char_to_token(i, answers[i]['answer_end'] - shift)\n",
    "            shift += 1\n",
    "   \n",
    "    encodings.update({'start_positions': start_positions, 'end_positions': end_positions})\n",
    "\n",
    "\n",
    "add_token_positions(train_encodings, train_answers)\n",
    "add_token_positions(val_encodings, val_answers)"
   ]
  },
  {
   "cell_type": "code",
   "execution_count": null,
   "id": "03b23794-0f55-4dc1-a543-14cf13480997",
   "metadata": {},
   "outputs": [],
   "source": []
  },
  {
   "cell_type": "code",
   "execution_count": 10,
   "id": "e88f7886-8645-4410-95f1-9e025e395970",
   "metadata": {},
   "outputs": [],
   "source": [
    "import torch\n",
    "\n",
    "class SquadDataset(torch.utils.data.Dataset):\n",
    "    def __init__(self, encodings):\n",
    "        self.encodings = encodings\n",
    "\n",
    "    def __getitem__(self, idx):\n",
    "        return {key: torch.tensor(val[idx]) for key, val in self.encodings.items()}\n",
    "\n",
    "    def __len__(self):\n",
    "        return len(self.encodings.input_ids)\n",
    "\n",
    "# build datasets for both our training and validation sets\n",
    "train_dataset = SquadDataset(train_encodings)\n",
    "val_dataset = SquadDataset(val_encodings)"
   ]
  },
  {
   "cell_type": "code",
   "execution_count": 11,
   "id": "2c8abe82-53f8-4c2c-bd3c-c43b20a5b450",
   "metadata": {},
   "outputs": [],
   "source": [
    "from transformers import AutoModelForQuestionAnswering\n",
    "from transformers import AutoTokenizer, IBertModel\n",
    "from transformers import AutoTokenizer, AutoModelForQuestionAnswering\n",
    "\n",
    "#model = AutoModelForQuestionAnswering.from_pretrained(\"huawei-noah/TinyBERT_General_4L_312D\")\n",
    "#model = RobertaForQuestionAnswering.from_pretrained(\"roberta-base\")\n",
    "#model = AutoModelForQuestionAnswering.from_pretrained(\"google/electra-base-discriminator\")\n",
    "#model = IBertModel.from_pretrained(\"kssteven/ibert-roberta-base\")"
   ]
  },
  {
   "cell_type": "code",
   "execution_count": 12,
   "id": "c5c4ac64-4f74-48bc-9988-65fa34de983c",
   "metadata": {},
   "outputs": [
    {
     "name": "stdout",
     "output_type": "stream",
     "text": [
      "cuda\n"
     ]
    }
   ],
   "source": [
    "device = torch.device('cuda') if torch.cuda.is_available() else torch.device('cpu')\n",
    "print(device)"
   ]
  },
  {
   "cell_type": "code",
   "execution_count": 13,
   "id": "861c64b2-d72b-4a0e-a149-a743c54ecc1b",
   "metadata": {},
   "outputs": [
    {
     "name": "stdout",
     "output_type": "stream",
     "text": [
      "huggingface/tokenizers: The current process just got forked, after parallelism has already been used. Disabling parallelism to avoid deadlocks...\n",
      "To disable this warning, you can either:\n",
      "\t- Avoid using `tokenizers` before the fork if possible\n",
      "\t- Explicitly set the environment variable TOKENIZERS_PARALLELISM=(true | false)\n",
      "huggingface/tokenizers: The current process just got forked, after parallelism has already been used. Disabling parallelism to avoid deadlocks...\n",
      "To disable this warning, you can either:\n",
      "\t- Avoid using `tokenizers` before the fork if possible\n",
      "\t- Explicitly set the environment variable TOKENIZERS_PARALLELISM=(true | false)\n"
     ]
    },
    {
     "name": "stderr",
     "output_type": "stream",
     "text": [
      "/home/rkuchan/.conda/envs/ece8550/lib/python3.7/site-packages/transformers/optimization.py:310: FutureWarning: This implementation of AdamW is deprecated and will be removed in a future version. Use the PyTorch implementation torch.optim.AdamW instead, or set `no_deprecation_warning=True` to disable this warning\n",
      "  FutureWarning,\n",
      "Epoch 0: 100%|██████████| 1160/1160 [17:51<00:00,  1.08it/s, loss=6.2, lr=2.51e-20] \n",
      "Epoch 1: 100%|██████████| 1160/1160 [17:51<00:00,  1.08it/s, loss=6.24, lr=2.51e-20]\n",
      "Epoch 2: 100%|██████████| 1160/1160 [17:54<00:00,  1.08it/s, loss=6.22, lr=2.51e-20]\n",
      "Epoch 3: 100%|██████████| 1160/1160 [17:52<00:00,  1.08it/s, loss=6.28, lr=2.51e-20]\n",
      "Epoch 4: 100%|██████████| 1160/1160 [17:51<00:00,  1.08it/s, loss=6.2, lr=2.51e-20] \n",
      "Epoch 5: 100%|██████████| 1160/1160 [17:50<00:00,  1.08it/s, loss=6.22, lr=2.51e-20]\n",
      "Epoch 6: 100%|██████████| 1160/1160 [17:50<00:00,  1.08it/s, loss=6.28, lr=2.51e-20]\n"
     ]
    }
   ],
   "source": [
    "from torch.utils.data import DataLoader\n",
    "from transformers import AdamW , get_linear_schedule_with_warmup\n",
    "from tqdm import tqdm\n",
    "from accelerate import Accelerator\n",
    "device = torch.device('cuda') if torch.cuda.is_available() else torch.device('cpu')\n",
    "model.to(device)\n",
    "model.train()\n",
    "\n",
    "learning_rate=2e-6\n",
    "optim = AdamW(model.parameters(), lr=learning_rate)\n",
    "\n",
    "total_step=900\n",
    "for i in range(total_step):\n",
    "    optim.param_groups[0][\"lr\"] -= learning_rate/total_step\n",
    "# initialize data loader for training data\n",
    "\n",
    "train_loader = DataLoader(train_dataset, batch_size=32, shuffle=True)\n",
    "\n",
    "# initialize scheduler\n",
    "num_training_steps = len(train_loader) * 30\n",
    "scheduler = get_linear_schedule_with_warmup(optim, num_warmup_steps=0, num_training_steps=num_training_steps)\n",
    "accelerator = Accelerator()\n",
    "model, optimizer, training_dataloader, scheduler = accelerator.prepare(model, optim, train_loader, scheduler)\n",
    "\n",
    "\n",
    "for epoch in range(7):\n",
    "    model.train()\n",
    "    \n",
    "    loop = tqdm(train_loader, leave=True)\n",
    "    for batch in loop:\n",
    "       \n",
    "        optim.zero_grad()\n",
    "        \n",
    "        input_ids = batch['input_ids'].to(device)\n",
    "        attention_mask = batch['attention_mask'].to(device)\n",
    "        start_positions = batch['start_positions'].to(device)\n",
    "        end_positions = batch['end_positions'].to(device)\n",
    "       \n",
    "        outputs = model(input_ids, attention_mask=attention_mask,\n",
    "                        start_positions=start_positions,\n",
    "                        end_positions=end_positions)\n",
    "       \n",
    "        loss = outputs[0]\n",
    "        \n",
    "        loss.backward()\n",
    "        optim.step()\n",
    "        loop.set_description(f'Epoch {epoch}')\n",
    "        loop.set_postfix(loss=loss.item(),lr=optim.param_groups[0]['lr'])"
   ]
  },
  {
   "cell_type": "code",
   "execution_count": 14,
   "id": "ef5ef4c0-3bff-449b-ad3d-4874570c5c55",
   "metadata": {},
   "outputs": [
    {
     "name": "stderr",
     "output_type": "stream",
     "text": [
      "100%|██████████| 497/497 [02:43<00:00,  3.05it/s]\n"
     ]
    }
   ],
   "source": [
    "model.eval()\n",
    "val_loader = DataLoader(val_dataset, batch_size=32)\n",
    "\n",
    "acc = []\n",
    "\n",
    "# initialize loop for progress bar\n",
    "loop = tqdm(val_loader)\n",
    "# loop through batches\n",
    "answers = []\n",
    "references = []\n",
    "for batch in loop:\n",
    "    # we don't need to calculate gradients as we're not training\n",
    "    with torch.no_grad():\n",
    "        # pull batched items from loader\n",
    "        input_ids = batch['input_ids'].to(device)\n",
    "        attention_mask = batch['attention_mask'].to(device)\n",
    "        start_true = batch['start_positions'].to(device)\n",
    "        end_true = batch['end_positions'].to(device)\n",
    "        # make predictions\n",
    "        outputs = model(input_ids, attention_mask=attention_mask)\n",
    "        # pull preds out\n",
    "        start_pred = torch.argmax(outputs['start_logits'], dim=1)\n",
    "        end_pred = torch.argmax(outputs['end_logits'], dim=1)\n",
    "        # calculate accuracy for both and append to accuracy list\n",
    "        acc.append(((start_pred == start_true).sum()/len(start_pred)).item())\n",
    "        acc.append(((end_pred == end_true).sum()/len(end_pred)).item())\n",
    "        for i in range(start_pred.shape[0]):\n",
    "            all_tokens = tokenizer.convert_ids_to_tokens(batch['input_ids'][i])\n",
    "            answer = ' '.join(all_tokens[start_pred[i] : end_pred[i]+1])\n",
    "            ref = ' '.join(all_tokens[start_true[i] : end_true[i]+1])\n",
    "            ans_ids = tokenizer.convert_tokens_to_ids(answer.split())\n",
    "            answer = tokenizer.decode(ans_ids)\n",
    "            answers.append(answer)\n",
    "            references.append(ref)"
   ]
  },
  {
   "cell_type": "code",
   "execution_count": null,
   "id": "108459bb-a5fd-4ce3-b103-23c978b2defb",
   "metadata": {},
   "outputs": [],
   "source": []
  },
  {
   "cell_type": "code",
   "execution_count": 26,
   "id": "b63da5bb-cc06-42ad-8c08-cc484a8ef6d4",
   "metadata": {},
   "outputs": [],
   "source": [
    "from __future__ import print_function\n",
    "from collections import Counter\n",
    "import string\n",
    "import re\n",
    "import argparse\n",
    "import sys\n",
    "\n",
    "\n",
    "def normalize_answer(s):\n",
    "\n",
    "    def remove_articles(text):\n",
    "        return re.sub(r'\\b(a|an|the)\\b', ' ', text)\n",
    "\n",
    "    def white_space_fix(text):\n",
    "        return ' '.join(text.split())\n",
    "\n",
    "    def remove_punc(text):\n",
    "        exclude = set(string.punctuation)\n",
    "        return ''.join(ch for ch in text if ch not in exclude)\n",
    "\n",
    "    def lower(text):\n",
    "        return text.lower()\n",
    "\n",
    "    return white_space_fix(remove_articles(remove_punc(lower(s))))\n",
    "\n",
    "def exact_match_score(prediction, ground_truth):\n",
    "    return (normalize_answer(prediction) == normalize_answer(ground_truth))\n",
    "\n",
    "\n",
    "def metric_max_over_ground_truths(metric_fn, prediction, ground_truths):\n",
    "    scores_for_ground_truths = []\n",
    "    for ground_truth in ground_truths:\n",
    "        score = metric_fn(prediction, ground_truth)\n",
    "        scores_for_ground_truths.append(score)\n",
    "    if len(scores_for_ground_truths)==0: return 0\n",
    "    return max(scores_for_ground_truths)\n",
    "\n",
    "def f1_score(prediction, ground_truth):\n",
    "    prediction_tokens = normalize_answer(prediction).split()\n",
    "    ground_truth_tokens = normalize_answer(ground_truth).split()\n",
    "    common = Counter(prediction_tokens) & Counter(ground_truth_tokens)\n",
    "    num_same = sum(common.values())\n",
    "    if num_same == 0:\n",
    "        return 0\n",
    "    precision = 1.0 * num_same / len(prediction_tokens)\n",
    "    recall = 1.0 * num_same / len(ground_truth_tokens)\n",
    "    f1 = (2 * precision * recall) / (precision + recall)\n",
    "    return f1\n",
    "\n",
    "def evaluate(gold_answers, predictions):\n",
    "    f1 = exact_match = total = 0\n",
    "\n",
    "    for ground_truths, prediction in zip(gold_answers, predictions):\n",
    "        total += 1\n",
    "        exact_match += metric_max_over_ground_truths(\n",
    "                    exact_match_score, prediction, ground_truths)\n",
    "        f1 += metric_max_over_ground_truths(\n",
    "          f1_score, prediction, [ground_truths])\n",
    "    \n",
    "    exact_match = 100.0 * exact_match / total\n",
    "    f1 = 100.0 * f1 / total\n",
    "\n",
    "    return  f1\n",
    "\n",
    "val=evaluate(references,answers)\n",
    "\n",
    "     \n"
   ]
  },
  {
   "cell_type": "code",
   "execution_count": 27,
   "id": "23de5fa1-28e9-48b8-a541-d6b5b048ba6d",
   "metadata": {},
   "outputs": [
    {
     "name": "stdout",
     "output_type": "stream",
     "text": [
      "14.780107125767412\n"
     ]
    }
   ],
   "source": [
    "print(val)"
   ]
  },
  {
   "cell_type": "code",
   "execution_count": null,
   "id": "a1243bb8-ceab-4a8f-84da-681d47afecd3",
   "metadata": {},
   "outputs": [],
   "source": []
  }
 ],
 "metadata": {
  "kernelspec": {
   "display_name": "Python 3 (ipykernel)",
   "language": "python",
   "name": "python3"
  },
  "language_info": {
   "codemirror_mode": {
    "name": "ipython",
    "version": 3
   },
   "file_extension": ".py",
   "mimetype": "text/x-python",
   "name": "python",
   "nbconvert_exporter": "python",
   "pygments_lexer": "ipython3",
   "version": "3.7.13"
  }
 },
 "nbformat": 4,
 "nbformat_minor": 5
}
